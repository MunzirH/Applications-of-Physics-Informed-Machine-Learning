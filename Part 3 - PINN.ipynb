{
  "nbformat": 4,
  "nbformat_minor": 0,
  "metadata": {
    "colab": {
      "name": "Untitled5.ipynb",
      "provenance": []
    },
    "kernelspec": {
      "name": "python3",
      "display_name": "Python 3"
    },
    "language_info": {
      "name": "python"
    }
  },
  "cells": [
    {
      "cell_type": "markdown",
      "source": [
        "# Part 3 - Physics-Informed Neural Networks - Burgers equation"
      ],
      "metadata": {
        "id": "M2ZsRH2N1T0f"
      }
    },
    {
      "cell_type": "code",
      "execution_count": 3,
      "metadata": {
        "id": "6eF7V9kqhzlj"
      },
      "outputs": [],
      "source": [
        "import torch\n",
        "from collections import OrderedDict\n",
        "\n",
        "import numpy as np\n",
        "import matplotlib.pyplot as plt\n",
        "import scipy.io\n",
        "from scipy.interpolate import griddata\n",
        "from mpl_toolkits.axes_grid1 import make_axes_locatable\n",
        "import matplotlib.gridspec as gridspec\n",
        "import warnings\n",
        "\n",
        "warnings.filterwarnings('ignore')\n",
        "\n",
        "np.random.seed(1234)"
      ]
    },
    {
      "cell_type": "code",
      "source": [
        "# CUDA support \n",
        "if torch.cuda.is_available():\n",
        "    device = torch.device('cuda')\n",
        "else:\n",
        "    device = torch.device('cpu')"
      ],
      "metadata": {
        "id": "aNVKG1W-vWul"
      },
      "execution_count": 4,
      "outputs": []
    },
    {
      "cell_type": "code",
      "source": [
        "# the deep neural network\n",
        "class DNN(torch.nn.Module):\n",
        "    def __init__(self, layers):\n",
        "        super(DNN, self).__init__()\n",
        "        \n",
        "        # parameters\n",
        "        self.depth = len(layers) - 1\n",
        "        \n",
        "        # set up layer order dict\n",
        "        self.activation = torch.nn.Tanh\n",
        "        \n",
        "        layer_list = list()\n",
        "        for i in range(self.depth - 1): \n",
        "            layer_list.append(\n",
        "                ('layer_%d' % i, torch.nn.Linear(layers[i], layers[i+1]))\n",
        "            )\n",
        "            layer_list.append(('activation_%d' % i, self.activation()))\n",
        "            \n",
        "        layer_list.append(\n",
        "            ('layer_%d' % (self.depth - 1), torch.nn.Linear(layers[-2], layers[-1]))\n",
        "        )\n",
        "        layerDict = OrderedDict(layer_list)\n",
        "        \n",
        "        # deploy layers\n",
        "        self.layers = torch.nn.Sequential(layerDict)\n",
        "        \n",
        "    def forward(self, x):\n",
        "        out = self.layers(x)\n",
        "        return out\n"
      ],
      "metadata": {
        "id": "7GW7Dj7Kvaj3"
      },
      "execution_count": 5,
      "outputs": []
    },
    {
      "cell_type": "code",
      "source": [
        "\n",
        "\n",
        "# the physics-guided neural network\n",
        "class PhysicsInformedNN():\n",
        "    def __init__(self, X, u, layers, lb, ub):\n",
        "        \n",
        "        # boundary conditions\n",
        "        self.lb = torch.tensor(lb).float().to(device)\n",
        "        self.ub = torch.tensor(ub).float().to(device)\n",
        "        \n",
        "        # data\n",
        "        self.x = torch.tensor(X[:, 0:1], requires_grad=True).float().to(device)\n",
        "        self.t = torch.tensor(X[:, 1:2], requires_grad=True).float().to(device)\n",
        "        self.u = torch.tensor(u).float().to(device)\n",
        "        \n",
        "        # settings\n",
        "        self.lambda_1 = torch.tensor([0.0], requires_grad=True).to(device)\n",
        "        self.lambda_2 = torch.tensor([-6.0], requires_grad=True).to(device)\n",
        "        \n",
        "        self.lambda_1 = torch.nn.Parameter(self.lambda_1)\n",
        "        self.lambda_2 = torch.nn.Parameter(self.lambda_2)\n",
        "        \n",
        "        # deep neural networks\n",
        "        self.dnn = DNN(layers).to(device)\n",
        "        self.dnn.register_parameter('lambda_1', self.lambda_1)\n",
        "        self.dnn.register_parameter('lambda_2', self.lambda_2)\n",
        "        \n",
        "         # optimizers: using the same settings\n",
        "        self.optimizer = torch.optim.LBFGS(\n",
        "            self.dnn.parameters(), \n",
        "            lr=1.0, \n",
        "            max_iter=50000, \n",
        "            max_eval=50000, \n",
        "            history_size=50,\n",
        "            tolerance_grad=1e-5, \n",
        "            tolerance_change=1.0 * np.finfo(float).eps,\n",
        "            line_search_fn=\"strong_wolfe\"       # can be \"strong_wolfe\"\n",
        "        )\n",
        "        \n",
        "        self.optimizer_Adam = torch.optim.Adam(self.dnn.parameters())\n",
        "        self.iter = 0\n",
        "        \n",
        "    def net_u(self, x, t):  \n",
        "        u = self.dnn(torch.cat([x, t], dim=1))\n",
        "        return u\n",
        "    \n",
        "    def net_f(self, x, t):\n",
        "        \"\"\" The pytorch autograd version of calculating residual \"\"\"\n",
        "        lambda_1 = self.lambda_1        \n",
        "        lambda_2 = torch.exp(self.lambda_2)\n",
        "        u = self.net_u(x, t)\n",
        "        \n",
        "        u_t = torch.autograd.grad(\n",
        "            u, t, \n",
        "            grad_outputs=torch.ones_like(u),\n",
        "            retain_graph=True,\n",
        "            create_graph=True\n",
        "        )[0]\n",
        "        u_x = torch.autograd.grad(\n",
        "            u, x, \n",
        "            grad_outputs=torch.ones_like(u),\n",
        "            retain_graph=True,\n",
        "            create_graph=True\n",
        "        )[0]\n",
        "        u_xx = torch.autograd.grad(\n",
        "            u_x, x, \n",
        "            grad_outputs=torch.ones_like(u_x),\n",
        "            retain_graph=True,\n",
        "            create_graph=True\n",
        "        )[0]\n",
        "        \n",
        "        f = u_t + lambda_1 * u * u_x - lambda_2 * u_xx\n",
        "        return f\n",
        "    \n",
        "    def loss_func(self):\n",
        "        u_pred = self.net_u(self.x, self.t)\n",
        "        f_pred = self.net_f(self.x, self.t)\n",
        "        loss = torch.mean((self.u - u_pred) ** 2) + torch.mean(f_pred ** 2)\n",
        "        self.optimizer.zero_grad()\n",
        "        loss.backward()\n",
        "        \n",
        "        self.iter += 1\n",
        "        if self.iter % 100 == 0:\n",
        "            print(\n",
        "                'Loss: %e, l1: %.5f, l2: %.5f' % \n",
        "                (\n",
        "                    loss.item(), \n",
        "                    self.lambda_1.item(), \n",
        "                    torch.exp(self.lambda_2.detach()).item()\n",
        "                )\n",
        "            )\n",
        "        return loss\n",
        "    \n",
        "    def train(self, nIter):\n",
        "        self.dnn.train()\n",
        "        for epoch in range(nIter):\n",
        "            u_pred = self.net_u(self.x, self.t)\n",
        "            f_pred = self.net_f(self.x, self.t)\n",
        "            loss = torch.mean((self.u - u_pred) ** 2) + torch.mean(f_pred ** 2)\n",
        "            \n",
        "            # Backward and optimize\n",
        "            self.optimizer_Adam.zero_grad()\n",
        "            loss.backward()\n",
        "            self.optimizer_Adam.step()\n",
        "            \n",
        "            if epoch % 100 == 0:\n",
        "                print(\n",
        "                    'It: %d, Loss: %.3e, Lambda_1: %.3f, Lambda_2: %.6f' % \n",
        "                    (\n",
        "                        epoch, \n",
        "                        loss.item(), \n",
        "                        self.lambda_1.item(), \n",
        "                        torch.exp(self.lambda_2).item()\n",
        "                    )\n",
        "                )\n",
        "                \n",
        "        # Backward and optimize\n",
        "        self.optimizer.step(self.loss_func)\n",
        "    \n",
        "    def predict(self, X):\n",
        "        x = torch.tensor(X[:, 0:1], requires_grad=True).float().to(device)\n",
        "        t = torch.tensor(X[:, 1:2], requires_grad=True).float().to(device)\n",
        "\n",
        "        self.dnn.eval()\n",
        "        u = self.net_u(x, t)\n",
        "        f = self.net_f(x, t)\n",
        "        u = u.detach().cpu().numpy()\n",
        "        f = f.detach().cpu().numpy()\n",
        "        return u, f\n",
        "\n"
      ],
      "metadata": {
        "id": "0hUIh-WXvgdQ"
      },
      "execution_count": 6,
      "outputs": []
    },
    {
      "cell_type": "code",
      "source": [
        "from google.colab import files\n",
        "data = files.upload()"
      ],
      "metadata": {
        "colab": {
          "resources": {
            "http://localhost:8080/nbextensions/google.colab/files.js": {
              "data": "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",
              "ok": true,
              "headers": [
                [
                  "content-type",
                  "application/javascript"
                ]
              ],
              "status": 200,
              "status_text": "OK"
            }
          },
          "base_uri": "https://localhost:8080/",
          "height": 76
        },
        "id": "N8Dz30_70JNh",
        "outputId": "a8436220-3f05-440a-f2fe-b75e7570e4cb"
      },
      "execution_count": 27,
      "outputs": [
        {
          "output_type": "display_data",
          "data": {
            "text/html": [
              "\n",
              "     <input type=\"file\" id=\"files-8831d4ca-4ec5-40d4-b82d-b36f00c5d954\" name=\"files[]\" multiple disabled\n",
              "        style=\"border:none\" />\n",
              "     <output id=\"result-8831d4ca-4ec5-40d4-b82d-b36f00c5d954\">\n",
              "      Upload widget is only available when the cell has been executed in the\n",
              "      current browser session. Please rerun this cell to enable.\n",
              "      </output>\n",
              "      <script src=\"/nbextensions/google.colab/files.js\"></script> "
            ],
            "text/plain": [
              "<IPython.core.display.HTML object>"
            ]
          },
          "metadata": {}
        },
        {
          "output_type": "stream",
          "name": "stdout",
          "text": [
            "Saving burgers_shock.mat to burgers_shock (2).mat\n"
          ]
        }
      ]
    },
    {
      "cell_type": "code",
      "source": [
        "from scipy.io import loadmat\n",
        "nu = 0.01/np.pi\n",
        "\n",
        "N_u = 2000\n",
        "layers = [2, 20, 20, 20, 20, 20, 20, 20, 20, 1]\n",
        "\n",
        "data = scipy.io.loadmat('burgers_shock.mat')\n",
        "\n",
        "t = data['t'].flatten()[:,None]\n",
        "x = data['x'].flatten()[:,None]\n",
        "Exact = np.real(data['usol']).T\n",
        "\n",
        "X, T = np.meshgrid(x,t)\n",
        "\n",
        "X_star = np.hstack((X.flatten()[:,None], T.flatten()[:,None]))\n",
        "u_star = Exact.flatten()[:,None]              \n",
        "\n",
        "# Doman bounds\n",
        "lb = X_star.min(0)\n",
        "ub = X_star.max(0) "
      ],
      "metadata": {
        "id": "NN6xsm2uvk0I"
      },
      "execution_count": 29,
      "outputs": []
    },
    {
      "cell_type": "code",
      "source": [
        "%%time\n",
        "\n",
        "noise = 0.0            \n",
        "\n",
        "# create training set\n",
        "idx = np.random.choice(X_star.shape[0], N_u, replace=False)\n",
        "X_u_train = X_star[idx,:]\n",
        "u_train = u_star[idx,:]\n",
        "\n",
        "# training\n",
        "model = PhysicsInformedNN(X_u_train, u_train, layers, lb, ub)\n",
        "model.train(0)"
      ],
      "metadata": {
        "colab": {
          "base_uri": "https://localhost:8080/"
        },
        "id": "AuMrk6I-0aPp",
        "outputId": "d12056dc-9434-4d98-ce05-21b5d092e11c"
      },
      "execution_count": 30,
      "outputs": [
        {
          "output_type": "stream",
          "name": "stdout",
          "text": [
            "Loss: 2.392381e-02, l1: 0.17724, l2: 0.00240\n",
            "Loss: 1.453897e-02, l1: 0.40030, l2: 0.00252\n",
            "Loss: 9.707768e-03, l1: 0.56804, l2: 0.00298\n",
            "Loss: 6.311247e-03, l1: 0.74136, l2: 0.00355\n",
            "Loss: 3.705810e-03, l1: 0.81956, l2: 0.00466\n",
            "Loss: 2.322793e-03, l1: 0.90033, l2: 0.00528\n",
            "Loss: 1.400230e-03, l1: 0.93221, l2: 0.00532\n",
            "Loss: 9.852196e-04, l1: 0.95719, l2: 0.00503\n",
            "Loss: 6.683046e-04, l1: 0.96370, l2: 0.00458\n",
            "Loss: 4.389622e-04, l1: 0.97251, l2: 0.00429\n",
            "Loss: 2.922791e-04, l1: 0.97647, l2: 0.00403\n",
            "Loss: 2.276500e-04, l1: 0.98769, l2: 0.00382\n",
            "Loss: 1.663801e-04, l1: 0.98729, l2: 0.00359\n",
            "Loss: 1.277895e-04, l1: 0.99724, l2: 0.00344\n",
            "Loss: 9.821400e-05, l1: 0.99503, l2: 0.00336\n",
            "Loss: 8.435279e-05, l1: 0.99124, l2: 0.00334\n",
            "Loss: 7.334395e-05, l1: 0.99540, l2: 0.00335\n",
            "Loss: 6.390874e-05, l1: 0.99588, l2: 0.00335\n",
            "Loss: 5.697792e-05, l1: 0.99648, l2: 0.00332\n",
            "Loss: 4.983559e-05, l1: 0.99174, l2: 0.00327\n",
            "Loss: 4.210375e-05, l1: 0.99561, l2: 0.00323\n",
            "Loss: 3.675736e-05, l1: 0.99603, l2: 0.00320\n",
            "Loss: 3.234754e-05, l1: 0.99720, l2: 0.00318\n",
            "Loss: 2.955403e-05, l1: 0.99594, l2: 0.00317\n",
            "Loss: 2.704983e-05, l1: 0.99613, l2: 0.00318\n",
            "Loss: 2.437704e-05, l1: 0.99741, l2: 0.00319\n",
            "Loss: 2.181683e-05, l1: 0.99861, l2: 0.00321\n",
            "Loss: 2.011647e-05, l1: 0.99803, l2: 0.00322\n",
            "Loss: 1.865784e-05, l1: 0.99814, l2: 0.00322\n",
            "Loss: 1.719853e-05, l1: 0.99856, l2: 0.00322\n",
            "Loss: 1.595244e-05, l1: 0.99845, l2: 0.00322\n",
            "Loss: 1.493836e-05, l1: 0.99855, l2: 0.00320\n",
            "Loss: 1.390445e-05, l1: 0.99862, l2: 0.00321\n",
            "Loss: 1.261466e-05, l1: 0.99987, l2: 0.00320\n",
            "Loss: 1.155892e-05, l1: 0.99976, l2: 0.00320\n",
            "Loss: 1.067426e-05, l1: 0.99856, l2: 0.00319\n",
            "Loss: 9.663709e-06, l1: 0.99916, l2: 0.00318\n",
            "Loss: 8.993949e-06, l1: 0.99866, l2: 0.00317\n",
            "Loss: 8.346462e-06, l1: 0.99909, l2: 0.00317\n",
            "Loss: 7.862430e-06, l1: 0.99947, l2: 0.00317\n",
            "Loss: 7.452237e-06, l1: 0.99941, l2: 0.00317\n",
            "Loss: 7.081417e-06, l1: 0.99983, l2: 0.00317\n",
            "Loss: 6.651378e-06, l1: 0.99928, l2: 0.00317\n",
            "Loss: 6.230257e-06, l1: 0.99972, l2: 0.00317\n",
            "Loss: 5.817411e-06, l1: 0.99989, l2: 0.00318\n",
            "Loss: 5.435033e-06, l1: 0.99911, l2: 0.00318\n",
            "Loss: 5.223495e-06, l1: 0.99927, l2: 0.00318\n",
            "Loss: 4.978712e-06, l1: 0.99948, l2: 0.00317\n",
            "Loss: 4.741142e-06, l1: 0.99956, l2: 0.00317\n",
            "Loss: 4.511714e-06, l1: 0.99962, l2: 0.00317\n",
            "Loss: 4.344423e-06, l1: 0.99951, l2: 0.00317\n",
            "Loss: 4.159122e-06, l1: 0.99940, l2: 0.00317\n",
            "Loss: 3.987642e-06, l1: 0.99921, l2: 0.00317\n",
            "Loss: 3.842659e-06, l1: 0.99920, l2: 0.00317\n",
            "CPU times: user 2min 11s, sys: 65 ms, total: 2min 11s\n",
            "Wall time: 2min 11s\n"
          ]
        }
      ]
    },
    {
      "cell_type": "code",
      "source": [
        "# evaluations\n",
        "u_pred, f_pred = model.predict(X_star)\n",
        "\n",
        "error_u = np.linalg.norm(u_star-u_pred,2)/np.linalg.norm(u_star,2)\n",
        "\n",
        "U_pred = griddata(X_star, u_pred.flatten(), (X, T), method='cubic')\n",
        "\n",
        "lambda_1_value = model.lambda_1.detach().cpu().numpy()\n",
        "lambda_2_value = model.lambda_2.detach().cpu().numpy()\n",
        "lambda_2_value = np.exp(lambda_2_value)\n",
        "\n",
        "error_lambda_1 = np.abs(lambda_1_value - 1.0) * 100\n",
        "error_lambda_2 = np.abs(lambda_2_value - nu) / nu * 100\n",
        "\n",
        "print('Error u: %e' % (error_u))    \n",
        "print('Error l1: %.5f%%' % (error_lambda_1))                             \n",
        "print('Error l2: %.5f%%' % (error_lambda_2))  "
      ],
      "metadata": {
        "colab": {
          "base_uri": "https://localhost:8080/"
        },
        "id": "_kZNYMAt099T",
        "outputId": "a5fdae35-3923-4d2d-97e1-ae5c5eba0edd"
      },
      "execution_count": 31,
      "outputs": [
        {
          "output_type": "stream",
          "name": "stdout",
          "text": [
            "Error u: 2.072676e-03\n",
            "Error l1: 0.03795%\n",
            "Error l2: 0.35735%\n"
          ]
        }
      ]
    },
    {
      "cell_type": "markdown",
      "source": [
        "Training on Noisy Data"
      ],
      "metadata": {
        "id": "uEmS_4wo1AUT"
      }
    },
    {
      "cell_type": "code",
      "source": [
        "\n",
        "\n",
        "noise = 0.01    \n",
        "\n",
        "# create training set\n",
        "u_train = u_train + noise*np.std(u_train)*np.random.randn(u_train.shape[0], u_train.shape[1])\n",
        "\n",
        "# training\n",
        "model = PhysicsInformedNN(X_u_train, u_train, layers, lb, ub)\n",
        "model.train(10000)            \n",
        "\n"
      ],
      "metadata": {
        "colab": {
          "base_uri": "https://localhost:8080/"
        },
        "id": "y1Go4_Io1F6b",
        "outputId": "c6f04109-ecb6-408f-f137-9360ebf167da"
      },
      "execution_count": 32,
      "outputs": [
        {
          "output_type": "stream",
          "name": "stdout",
          "text": [
            "It: 0, Loss: 4.047e-01, Lambda_1: 0.001, Lambda_2: 0.002478\n",
            "It: 100, Loss: 8.650e-02, Lambda_1: 0.099, Lambda_2: 0.002154\n",
            "It: 200, Loss: 3.220e-02, Lambda_1: 0.080, Lambda_2: 0.002126\n",
            "It: 300, Loss: 2.743e-02, Lambda_1: 0.103, Lambda_2: 0.002135\n",
            "It: 400, Loss: 2.364e-02, Lambda_1: 0.144, Lambda_2: 0.002105\n",
            "It: 500, Loss: 2.119e-02, Lambda_1: 0.193, Lambda_2: 0.002149\n",
            "It: 600, Loss: 1.896e-02, Lambda_1: 0.246, Lambda_2: 0.002225\n",
            "It: 700, Loss: 1.653e-02, Lambda_1: 0.310, Lambda_2: 0.002344\n",
            "It: 800, Loss: 1.468e-02, Lambda_1: 0.365, Lambda_2: 0.002518\n",
            "It: 900, Loss: 1.209e-02, Lambda_1: 0.416, Lambda_2: 0.002694\n",
            "It: 1000, Loss: 1.013e-02, Lambda_1: 0.466, Lambda_2: 0.002799\n",
            "It: 1100, Loss: 8.527e-02, Lambda_1: 0.504, Lambda_2: 0.002865\n",
            "It: 1200, Loss: 9.130e-03, Lambda_1: 0.482, Lambda_2: 0.002917\n",
            "It: 1300, Loss: 8.253e-03, Lambda_1: 0.515, Lambda_2: 0.002962\n",
            "It: 1400, Loss: 7.571e-03, Lambda_1: 0.544, Lambda_2: 0.003012\n",
            "It: 1500, Loss: 7.006e-03, Lambda_1: 0.570, Lambda_2: 0.003068\n",
            "It: 1600, Loss: 6.485e-03, Lambda_1: 0.593, Lambda_2: 0.003127\n",
            "It: 1700, Loss: 5.973e-03, Lambda_1: 0.615, Lambda_2: 0.003190\n",
            "It: 1800, Loss: 7.290e-03, Lambda_1: 0.637, Lambda_2: 0.003253\n",
            "It: 1900, Loss: 7.774e-03, Lambda_1: 0.556, Lambda_2: 0.003315\n",
            "It: 2000, Loss: 6.203e-03, Lambda_1: 0.580, Lambda_2: 0.003333\n",
            "It: 2100, Loss: 5.584e-03, Lambda_1: 0.607, Lambda_2: 0.003359\n",
            "It: 2200, Loss: 5.152e-03, Lambda_1: 0.631, Lambda_2: 0.003386\n",
            "It: 2300, Loss: 4.806e-03, Lambda_1: 0.651, Lambda_2: 0.003415\n",
            "It: 2400, Loss: 4.497e-03, Lambda_1: 0.669, Lambda_2: 0.003446\n",
            "It: 2500, Loss: 4.207e-03, Lambda_1: 0.685, Lambda_2: 0.003477\n",
            "It: 2600, Loss: 3.930e-03, Lambda_1: 0.700, Lambda_2: 0.003510\n",
            "It: 2700, Loss: 3.663e-03, Lambda_1: 0.714, Lambda_2: 0.003542\n",
            "It: 2800, Loss: 3.405e-03, Lambda_1: 0.728, Lambda_2: 0.003575\n",
            "It: 2900, Loss: 1.791e-02, Lambda_1: 0.655, Lambda_2: 0.003635\n",
            "It: 3000, Loss: 6.603e-03, Lambda_1: 0.616, Lambda_2: 0.003739\n",
            "It: 3100, Loss: 5.184e-03, Lambda_1: 0.624, Lambda_2: 0.003753\n",
            "It: 3200, Loss: 4.586e-03, Lambda_1: 0.641, Lambda_2: 0.003764\n",
            "It: 3300, Loss: 4.206e-03, Lambda_1: 0.657, Lambda_2: 0.003775\n",
            "It: 3400, Loss: 3.912e-03, Lambda_1: 0.673, Lambda_2: 0.003786\n",
            "It: 3500, Loss: 3.669e-03, Lambda_1: 0.688, Lambda_2: 0.003797\n",
            "It: 3600, Loss: 3.460e-03, Lambda_1: 0.701, Lambda_2: 0.003809\n",
            "It: 3700, Loss: 3.276e-03, Lambda_1: 0.713, Lambda_2: 0.003822\n",
            "It: 3800, Loss: 3.109e-03, Lambda_1: 0.725, Lambda_2: 0.003835\n",
            "It: 3900, Loss: 2.955e-03, Lambda_1: 0.736, Lambda_2: 0.003850\n",
            "It: 4000, Loss: 2.811e-03, Lambda_1: 0.746, Lambda_2: 0.003865\n",
            "It: 4100, Loss: 2.676e-03, Lambda_1: 0.756, Lambda_2: 0.003880\n",
            "It: 4200, Loss: 2.547e-03, Lambda_1: 0.765, Lambda_2: 0.003896\n",
            "It: 4300, Loss: 2.424e-03, Lambda_1: 0.775, Lambda_2: 0.003913\n",
            "It: 4400, Loss: 2.306e-03, Lambda_1: 0.783, Lambda_2: 0.003930\n",
            "It: 4500, Loss: 2.192e-03, Lambda_1: 0.792, Lambda_2: 0.003947\n",
            "It: 4600, Loss: 2.084e-03, Lambda_1: 0.800, Lambda_2: 0.003965\n",
            "It: 4700, Loss: 1.979e-03, Lambda_1: 0.808, Lambda_2: 0.003983\n",
            "It: 4800, Loss: 1.878e-03, Lambda_1: 0.816, Lambda_2: 0.004002\n",
            "It: 4900, Loss: 1.797e-03, Lambda_1: 0.822, Lambda_2: 0.004020\n",
            "It: 5000, Loss: 1.695e-03, Lambda_1: 0.829, Lambda_2: 0.004036\n",
            "It: 5100, Loss: 1.619e-03, Lambda_1: 0.835, Lambda_2: 0.004052\n",
            "It: 5200, Loss: 1.557e-03, Lambda_1: 0.841, Lambda_2: 0.004066\n",
            "It: 5300, Loss: 1.810e-03, Lambda_1: 0.846, Lambda_2: 0.004079\n",
            "It: 5400, Loss: 1.529e-03, Lambda_1: 0.851, Lambda_2: 0.004090\n",
            "It: 5500, Loss: 1.374e-03, Lambda_1: 0.855, Lambda_2: 0.004100\n",
            "It: 5600, Loss: 1.418e-03, Lambda_1: 0.859, Lambda_2: 0.004109\n",
            "It: 5700, Loss: 1.734e-03, Lambda_1: 0.864, Lambda_2: 0.004115\n",
            "It: 5800, Loss: 1.633e-03, Lambda_1: 0.868, Lambda_2: 0.004124\n",
            "It: 5900, Loss: 2.190e-03, Lambda_1: 0.871, Lambda_2: 0.004129\n",
            "It: 6000, Loss: 1.424e-03, Lambda_1: 0.875, Lambda_2: 0.004136\n",
            "It: 6100, Loss: 1.171e-03, Lambda_1: 0.879, Lambda_2: 0.004141\n",
            "It: 6200, Loss: 7.340e-02, Lambda_1: 0.830, Lambda_2: 0.004055\n",
            "It: 6300, Loss: 1.501e-02, Lambda_1: 0.762, Lambda_2: 0.004282\n",
            "It: 6400, Loss: 7.660e-03, Lambda_1: 0.728, Lambda_2: 0.004381\n",
            "It: 6500, Loss: 5.413e-03, Lambda_1: 0.719, Lambda_2: 0.004414\n",
            "It: 6600, Loss: 4.333e-03, Lambda_1: 0.722, Lambda_2: 0.004429\n",
            "It: 6700, Loss: 3.571e-03, Lambda_1: 0.729, Lambda_2: 0.004443\n",
            "It: 6800, Loss: 3.019e-03, Lambda_1: 0.739, Lambda_2: 0.004457\n",
            "It: 6900, Loss: 2.639e-03, Lambda_1: 0.749, Lambda_2: 0.004471\n",
            "It: 7000, Loss: 2.375e-03, Lambda_1: 0.759, Lambda_2: 0.004482\n",
            "It: 7100, Loss: 2.172e-03, Lambda_1: 0.770, Lambda_2: 0.004491\n",
            "It: 7200, Loss: 2.000e-03, Lambda_1: 0.780, Lambda_2: 0.004499\n",
            "It: 7300, Loss: 1.850e-03, Lambda_1: 0.790, Lambda_2: 0.004505\n",
            "It: 7400, Loss: 1.718e-03, Lambda_1: 0.799, Lambda_2: 0.004511\n",
            "It: 7500, Loss: 1.602e-03, Lambda_1: 0.808, Lambda_2: 0.004517\n",
            "It: 7600, Loss: 1.500e-03, Lambda_1: 0.817, Lambda_2: 0.004522\n",
            "It: 7700, Loss: 1.410e-03, Lambda_1: 0.826, Lambda_2: 0.004528\n",
            "It: 7800, Loss: 1.330e-03, Lambda_1: 0.834, Lambda_2: 0.004533\n",
            "It: 7900, Loss: 1.260e-03, Lambda_1: 0.842, Lambda_2: 0.004537\n",
            "It: 8000, Loss: 1.198e-03, Lambda_1: 0.849, Lambda_2: 0.004541\n",
            "It: 8100, Loss: 1.141e-03, Lambda_1: 0.856, Lambda_2: 0.004545\n",
            "It: 8200, Loss: 1.091e-03, Lambda_1: 0.863, Lambda_2: 0.004549\n",
            "It: 8300, Loss: 1.044e-03, Lambda_1: 0.870, Lambda_2: 0.004552\n",
            "It: 8400, Loss: 1.002e-03, Lambda_1: 0.876, Lambda_2: 0.004555\n",
            "It: 8500, Loss: 9.627e-04, Lambda_1: 0.882, Lambda_2: 0.004557\n",
            "It: 8600, Loss: 9.261e-04, Lambda_1: 0.887, Lambda_2: 0.004559\n",
            "It: 8700, Loss: 8.918e-04, Lambda_1: 0.892, Lambda_2: 0.004560\n",
            "It: 8800, Loss: 8.595e-04, Lambda_1: 0.897, Lambda_2: 0.004561\n",
            "It: 8900, Loss: 8.288e-04, Lambda_1: 0.902, Lambda_2: 0.004561\n",
            "It: 9000, Loss: 7.995e-04, Lambda_1: 0.907, Lambda_2: 0.004561\n",
            "It: 9100, Loss: 7.714e-04, Lambda_1: 0.911, Lambda_2: 0.004561\n",
            "It: 9200, Loss: 7.452e-04, Lambda_1: 0.915, Lambda_2: 0.004560\n",
            "It: 9300, Loss: 7.230e-04, Lambda_1: 0.919, Lambda_2: 0.004558\n",
            "It: 9400, Loss: 8.137e-04, Lambda_1: 0.922, Lambda_2: 0.004556\n",
            "It: 9500, Loss: 7.328e-04, Lambda_1: 0.926, Lambda_2: 0.004554\n",
            "It: 9600, Loss: 6.516e-04, Lambda_1: 0.928, Lambda_2: 0.004552\n",
            "It: 9700, Loss: 6.981e-04, Lambda_1: 0.931, Lambda_2: 0.004550\n",
            "It: 9800, Loss: 7.230e-04, Lambda_1: 0.933, Lambda_2: 0.004548\n",
            "It: 9900, Loss: 6.195e-04, Lambda_1: 0.936, Lambda_2: 0.004545\n",
            "Loss: 3.665807e-04, l1: 0.98448, l2: 0.00445\n",
            "Loss: 2.666363e-04, l1: 0.97706, l2: 0.00424\n",
            "Loss: 1.968533e-04, l1: 0.98387, l2: 0.00399\n",
            "Loss: 1.626474e-04, l1: 0.98492, l2: 0.00374\n",
            "Loss: 1.412905e-04, l1: 0.98835, l2: 0.00359\n",
            "Loss: 1.160753e-04, l1: 0.99149, l2: 0.00341\n",
            "Loss: 9.973867e-05, l1: 0.98652, l2: 0.00332\n",
            "Loss: 8.870226e-05, l1: 0.99313, l2: 0.00325\n",
            "Loss: 8.086501e-05, l1: 0.99493, l2: 0.00325\n",
            "Loss: 7.518653e-05, l1: 0.99715, l2: 0.00323\n",
            "Loss: 7.021416e-05, l1: 0.99441, l2: 0.00321\n",
            "Loss: 6.636133e-05, l1: 0.99597, l2: 0.00322\n",
            "Loss: 6.386071e-05, l1: 0.99596, l2: 0.00323\n",
            "Loss: 6.123792e-05, l1: 0.99664, l2: 0.00321\n",
            "Loss: 5.949275e-05, l1: 0.99674, l2: 0.00321\n",
            "Loss: 5.788120e-05, l1: 0.99848, l2: 0.00323\n",
            "Loss: 5.529203e-05, l1: 0.99723, l2: 0.00324\n",
            "Loss: 5.327248e-05, l1: 0.99750, l2: 0.00324\n",
            "Loss: 5.197466e-05, l1: 0.99710, l2: 0.00323\n",
            "Loss: 5.055246e-05, l1: 0.99766, l2: 0.00320\n",
            "Loss: 4.944915e-05, l1: 0.99843, l2: 0.00318\n",
            "Loss: 4.806238e-05, l1: 0.99764, l2: 0.00315\n",
            "Loss: 4.719972e-05, l1: 0.99685, l2: 0.00314\n",
            "Loss: 4.603325e-05, l1: 0.99793, l2: 0.00314\n",
            "Loss: 4.538380e-05, l1: 0.99862, l2: 0.00314\n",
            "Loss: 4.470177e-05, l1: 0.99831, l2: 0.00314\n",
            "Loss: 4.387918e-05, l1: 0.99783, l2: 0.00315\n",
            "Loss: 4.330974e-05, l1: 0.99841, l2: 0.00315\n",
            "Loss: 4.283703e-05, l1: 0.99878, l2: 0.00315\n",
            "Loss: 4.235600e-05, l1: 0.99811, l2: 0.00316\n",
            "Loss: 4.196254e-05, l1: 0.99829, l2: 0.00316\n",
            "Loss: 4.161440e-05, l1: 0.99803, l2: 0.00316\n",
            "Loss: 4.125573e-05, l1: 0.99824, l2: 0.00316\n",
            "Loss: 4.089020e-05, l1: 0.99824, l2: 0.00316\n",
            "Loss: 4.063830e-05, l1: 0.99833, l2: 0.00316\n",
            "Loss: 4.035280e-05, l1: 0.99765, l2: 0.00317\n",
            "Loss: 4.014749e-05, l1: 0.99838, l2: 0.00317\n",
            "Loss: 3.998121e-05, l1: 0.99845, l2: 0.00318\n",
            "Loss: 3.980453e-05, l1: 0.99872, l2: 0.00318\n",
            "Loss: 3.960784e-05, l1: 0.99786, l2: 0.00318\n",
            "Loss: 3.937107e-05, l1: 0.99817, l2: 0.00318\n",
            "Loss: 3.922250e-05, l1: 0.99825, l2: 0.00318\n",
            "Loss: 3.909309e-05, l1: 0.99827, l2: 0.00318\n",
            "Loss: 3.893525e-05, l1: 0.99845, l2: 0.00318\n",
            "Loss: 3.881503e-05, l1: 0.99787, l2: 0.00318\n",
            "Loss: 3.864776e-05, l1: 0.99842, l2: 0.00319\n",
            "Loss: 3.849750e-05, l1: 0.99832, l2: 0.00319\n",
            "Loss: 3.838321e-05, l1: 0.99825, l2: 0.00319\n",
            "Loss: 3.828380e-05, l1: 0.99868, l2: 0.00319\n",
            "Loss: 3.820514e-05, l1: 0.99822, l2: 0.00319\n",
            "Loss: 3.809484e-05, l1: 0.99805, l2: 0.00318\n",
            "Loss: 3.798439e-05, l1: 0.99843, l2: 0.00318\n",
            "Loss: 3.791875e-05, l1: 0.99829, l2: 0.00318\n",
            "Loss: 3.783573e-05, l1: 0.99867, l2: 0.00318\n",
            "Loss: 3.773783e-05, l1: 0.99866, l2: 0.00317\n",
            "Loss: 3.768099e-05, l1: 0.99822, l2: 0.00317\n",
            "Loss: 3.760707e-05, l1: 0.99834, l2: 0.00317\n"
          ]
        }
      ]
    },
    {
      "cell_type": "code",
      "source": [
        "\n",
        "\n",
        "\"\"\" The aesthetic setting has changed. \"\"\"\n",
        "\n",
        "####### Row 0: u(t,x) ##################    \n",
        "\n",
        "fig = plt.figure(figsize=(9, 5))\n",
        "ax = fig.add_subplot(111)\n",
        "\n",
        "h = ax.imshow(U_pred.T, interpolation='nearest', cmap='rainbow', \n",
        "              extent=[t.min(), t.max(), x.min(), x.max()], \n",
        "              origin='lower', aspect='auto')\n",
        "divider = make_axes_locatable(ax)\n",
        "cax = divider.append_axes(\"right\", size=\"5%\", pad=0.10)\n",
        "cbar = fig.colorbar(h, cax=cax)\n",
        "cbar.ax.tick_params(labelsize=15) \n",
        "\n",
        "ax.plot(\n",
        "    X_u_train[:,1], \n",
        "    X_u_train[:,0], \n",
        "    'kx', label = 'Data (%d points)' % (u_train.shape[0]), \n",
        "    markersize = 4,  # marker size doubled\n",
        "    clip_on = False,\n",
        "    alpha=.5\n",
        ")\n",
        "\n",
        "line = np.linspace(x.min(), x.max(), 2)[:,None]\n",
        "ax.plot(t[25]*np.ones((2,1)), line, 'w-', linewidth = 1)\n",
        "ax.plot(t[50]*np.ones((2,1)), line, 'w-', linewidth = 1)\n",
        "ax.plot(t[75]*np.ones((2,1)), line, 'w-', linewidth = 1)\n",
        "\n",
        "ax.set_xlabel('$t$', size=20)\n",
        "ax.set_ylabel('$x$', size=20)\n",
        "ax.legend(\n",
        "    loc='upper center', \n",
        "    bbox_to_anchor=(0.9, -0.05), \n",
        "    ncol=5, \n",
        "    frameon=False, \n",
        "    prop={'size': 15}\n",
        ")\n",
        "ax.set_title('$u(t,x)$', fontsize = 20) # font size doubled\n",
        "ax.tick_params(labelsize=15)\n",
        "\n",
        "plt.show()\n",
        "\n"
      ],
      "metadata": {
        "colab": {
          "base_uri": "https://localhost:8080/",
          "height": 373
        },
        "id": "GYNf11Bx2w19",
        "outputId": "241a19d4-4124-4436-d031-4123ab2a239b"
      },
      "execution_count": 33,
      "outputs": [
        {
          "output_type": "display_data",
          "data": {
            "image/png": "[encoded data removed]",
            "text/plain": [
              "<Figure size 648x360 with 2 Axes>"
            ]
          },
          "metadata": {
            "needs_background": "light"
          }
        }
      ]
    },
    {
      "cell_type": "code",
      "source": [
        "####### Row 1: u(t,x) slices ################## \n",
        "\n",
        "\"\"\" The aesthetic setting has changed. \"\"\"\n",
        "\n",
        "fig = plt.figure(figsize=(14, 10))\n",
        "ax = fig.add_subplot(111)\n",
        "\n",
        "gs1 = gridspec.GridSpec(1, 3)\n",
        "gs1.update(top=1-1.0/3.0-0.1, bottom=1.0-2.0/3.0, left=0.1, right=0.9, wspace=0.5)\n",
        "\n",
        "ax = plt.subplot(gs1[0, 0])\n",
        "ax.plot(x,Exact[25,:], 'b-', linewidth = 2, label = 'Exact')       \n",
        "ax.plot(x,U_pred[25,:], 'r--', linewidth = 2, label = 'Prediction')\n",
        "ax.set_xlabel('$x$')\n",
        "ax.set_ylabel('$u(t,x)$')    \n",
        "ax.set_title('$t = 0.25$', fontsize = 15)\n",
        "ax.axis('square')\n",
        "ax.set_xlim([-1.1,1.1])\n",
        "ax.set_ylim([-1.1,1.1])\n",
        "\n",
        "for item in ([ax.title, ax.xaxis.label, ax.yaxis.label] +\n",
        "             ax.get_xticklabels() + ax.get_yticklabels()):\n",
        "    item.set_fontsize(15)\n",
        "\n",
        "ax = plt.subplot(gs1[0, 1])\n",
        "ax.plot(x,Exact[50,:], 'b-', linewidth = 2, label = 'Exact')       \n",
        "ax.plot(x,U_pred[50,:], 'r--', linewidth = 2, label = 'Prediction')\n",
        "ax.set_xlabel('$x$')\n",
        "ax.set_ylabel('$u(t,x)$')\n",
        "ax.axis('square')\n",
        "ax.set_xlim([-1.1,1.1])\n",
        "ax.set_ylim([-1.1,1.1])\n",
        "ax.set_title('$t = 0.50$', fontsize = 15)\n",
        "ax.legend(\n",
        "    loc='upper center', \n",
        "    bbox_to_anchor=(0.5, -0.15), \n",
        "    ncol=5, \n",
        "    frameon=False, \n",
        "    prop={'size': 15}\n",
        ")\n",
        "\n",
        "for item in ([ax.title, ax.xaxis.label, ax.yaxis.label] +\n",
        "             ax.get_xticklabels() + ax.get_yticklabels()):\n",
        "    item.set_fontsize(15)\n",
        "\n",
        "ax = plt.subplot(gs1[0, 2])\n",
        "ax.plot(x,Exact[75,:], 'b-', linewidth = 2, label = 'Exact')       \n",
        "ax.plot(x,U_pred[75,:], 'r--', linewidth = 2, label = 'Prediction')\n",
        "ax.set_xlabel('$x$')\n",
        "ax.set_ylabel('$u(t,x)$')\n",
        "ax.axis('square')\n",
        "ax.set_xlim([-1.1,1.1])\n",
        "ax.set_ylim([-1.1,1.1])    \n",
        "ax.set_title('$t = 0.75$', fontsize = 15)\n",
        "\n",
        "for item in ([ax.title, ax.xaxis.label, ax.yaxis.label] +\n",
        "             ax.get_xticklabels() + ax.get_yticklabels()):\n",
        "    item.set_fontsize(15)\n",
        "\n",
        "plt.show()\n"
      ],
      "metadata": {
        "colab": {
          "base_uri": "https://localhost:8080/",
          "height": 278
        },
        "id": "5cLQ2wRc3IR9",
        "outputId": "8eb5b522-778d-41da-fcf3-6bf833180379"
      },
      "execution_count": 34,
      "outputs": [
        {
          "output_type": "display_data",
          "data": {
            "image/png": "[encoded data removed]",
            "text/plain": [
              "<Figure size 1008x720 with 3 Axes>"
            ]
          },
          "metadata": {
            "needs_background": "light"
          }
        }
      ]
    },
    {
      "cell_type": "code",
      "source": [
        "\n",
        "\n",
        "# evaluations\n",
        "u_pred, f_pred = model.predict(X_star)\n",
        "\n",
        "lambda_1_value_noisy = model.lambda_1.detach().cpu().numpy()\n",
        "lambda_2_value_noisy = model.lambda_2.detach().cpu().numpy()\n",
        "lambda_2_value_noisy = np.exp(lambda_2_value_noisy)\n",
        "\n",
        "error_lambda_1_noisy = np.abs(lambda_1_value_noisy - 1.0) * 100\n",
        "error_lambda_2_noisy = np.abs(lambda_2_value_noisy - nu) / nu * 100\n",
        "\n",
        "print('Error u: %e' % (error_u))    \n",
        "print('Error l1: %.5f%%' % (error_lambda_1_noisy))                             \n",
        "print('Error l2: %.5f%%' % (error_lambda_2_noisy))    \n",
        "\n"
      ],
      "metadata": {
        "colab": {
          "base_uri": "https://localhost:8080/"
        },
        "id": "qpyaAHQX3MeZ",
        "outputId": "effe0d0f-9ef3-4cab-b4fe-f0cf6203a739"
      },
      "execution_count": 35,
      "outputs": [
        {
          "output_type": "stream",
          "name": "stdout",
          "text": [
            "Error u: 2.072676e-03\n",
            "Error l1: 0.15935%\n",
            "Error l2: 0.34091%\n"
          ]
        }
      ]
    },
    {
      "cell_type": "code",
      "source": [
        "print(lambda_1_value, lambda_2_value)\n",
        "print(lambda_1_value_noisy, lambda_2_value_noisy)"
      ],
      "metadata": {
        "colab": {
          "base_uri": "https://localhost:8080/"
        },
        "id": "vcLb4vvQ3P4q",
        "outputId": "2db95bb6-55f7-4ba0-bdc7-d27bece8a52f"
      },
      "execution_count": 43,
      "outputs": [
        {
          "output_type": "stream",
          "name": "stdout",
          "text": [
            "[0.9996205] [0.00317172]\n",
            "[0.99840647] [0.00317225]\n"
          ]
        }
      ]
    }
  ]
}